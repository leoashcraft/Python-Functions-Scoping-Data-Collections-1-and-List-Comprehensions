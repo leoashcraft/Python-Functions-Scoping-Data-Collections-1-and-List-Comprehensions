{
 "cells": [
  {
   "cell_type": "markdown",
   "metadata": {},
   "source": [
    "# Data Collections 2 (Dictionaries, Sets) and Importing Modules"
   ]
  },
  {
   "cell_type": "markdown",
   "metadata": {},
   "source": [
    "## Tasks Today:\n",
    "\n",
    "1) Dictionary <br>\n",
    " &nbsp;&nbsp;&nbsp;&nbsp; a) Declaring (key, value) <br>\n",
    " &nbsp;&nbsp;&nbsp;&nbsp; b) Accessing Values <br>\n",
    " &nbsp;&nbsp;&nbsp;&nbsp; ------ Exercise #1 - Print the eye color of each person in a double nested dict <br>\n",
    " &nbsp;&nbsp;&nbsp;&nbsp; c) Adding New Pairs <br>\n",
    " &nbsp;&nbsp;&nbsp;&nbsp; d) Modifying Values <br>\n",
    " &nbsp;&nbsp;&nbsp;&nbsp; e) Removing Key, Value Pairs <br>\n",
    " &nbsp;&nbsp;&nbsp;&nbsp; f) Looping a Dictionary <br>\n",
    " &nbsp;&nbsp;&nbsp;&nbsp; g) Looping Only Keys <br>\n",
    " &nbsp;&nbsp;&nbsp;&nbsp; h) Looping Only Values <br>\n",
    " &nbsp;&nbsp;&nbsp;&nbsp; ------ Exercise #2 - Create a Function that Prints All Key Value Pairs within a print .format()  <br>\n",
    " &nbsp;&nbsp;&nbsp;&nbsp; i) sorted() <br>\n",
    " &nbsp;&nbsp;&nbsp;&nbsp; j) Lists with Dictionaries <br>\n",
    " &nbsp;&nbsp;&nbsp;&nbsp; k) Dictionaries with Lists <br>\n",
    " &nbsp;&nbsp;&nbsp;&nbsp; l) Dictionaries with Dictionaries <br>\n",
    " &nbsp;&nbsp;&nbsp;&nbsp; ------ Exercise #3 - Write a Function that asks someone's name and address, and then stores that into a dictionary, which prints all names and addresses after they're done putting information in...  <br>\n",
    "2) Set <br>\n",
    " &nbsp;&nbsp;&nbsp;&nbsp; a) Declaring <br>\n",
    " &nbsp;&nbsp;&nbsp;&nbsp; b) .add() <br>\n",
    " &nbsp;&nbsp;&nbsp;&nbsp; c) .remove() <br>\n",
    " &nbsp;&nbsp;&nbsp;&nbsp; d) .union() <br>\n",
    " &nbsp;&nbsp;&nbsp;&nbsp; e) .intersection() <br>\n",
    " &nbsp;&nbsp;&nbsp;&nbsp; f) .difference() <br>\n",
    " &nbsp;&nbsp;&nbsp;&nbsp; g) Frozen Set <br>\n",
    "3) Modules <br>\n",
    " &nbsp;&nbsp;&nbsp;&nbsp; a) Importing Entire Modules <br>\n",
    " &nbsp;&nbsp;&nbsp;&nbsp; b) Importing Methods Only <br>\n",
    " &nbsp;&nbsp;&nbsp;&nbsp; c) Using the 'as' Keyword <br>\n",
    " &nbsp;&nbsp;&nbsp;&nbsp; d) Creating a Module <br>\n",
    "4) Exercises <br>\n",
    " &nbsp;&nbsp;&nbsp;&nbsp; a) Build a Shopping Cart <br>\n",
    " &nbsp;&nbsp;&nbsp;&nbsp; b) Create Your Own Module <br>"
   ]
  },
  {
   "cell_type": "markdown",
   "metadata": {},
   "source": [
    "## Dictionary <br>\n",
    "<p>A collection of data with 'key:value' pairs. Dictionaries are ordered as of Python 3.6</p>"
   ]
  },
  {
   "cell_type": "markdown",
   "metadata": {},
   "source": [
    "##### Declaring (key, value)"
   ]
  },
  {
   "cell_type": "code",
   "execution_count": 1,
   "metadata": {},
   "outputs": [
    {
     "data": {
      "text/plain": [
       "{'Dave': '255 Main St', 'Sean': '522 1st Ave', 0: 'This is a value for zero'}"
      ]
     },
     "execution_count": 1,
     "metadata": {},
     "output_type": "execute_result"
    }
   ],
   "source": [
    "# key : value pairs\n",
    "# keys should be unique\n",
    "# keys can use numbers or string\n",
    "\n",
    "d = {} #Empty dictionary\n",
    "d = dict()\n",
    "\n",
    "d3 = {\n",
    "    # \"immutable\":\"anything\"\n",
    "    \"Dave\":\"255 Main St\",\n",
    "    \"Sean\":\"522 1st Ave\",\n",
    "    0 : \"This is a value for zero\"\n",
    "}\n",
    "d3\n"
   ]
  },
  {
   "cell_type": "markdown",
   "metadata": {},
   "source": [
    "##### Accessing Values"
   ]
  },
  {
   "cell_type": "code",
   "execution_count": 5,
   "metadata": {},
   "outputs": [
    {
     "data": {
      "text/plain": [
       "'255 Main St'"
      ]
     },
     "execution_count": 5,
     "metadata": {},
     "output_type": "execute_result"
    }
   ],
   "source": [
    "d3[\"Dave\"]"
   ]
  },
  {
   "cell_type": "code",
   "execution_count": 8,
   "metadata": {},
   "outputs": [
    {
     "data": {
      "text/plain": [
       "str"
      ]
     },
     "execution_count": 8,
     "metadata": {},
     "output_type": "execute_result"
    }
   ],
   "source": [
    "type(d3[0])"
   ]
  },
  {
   "cell_type": "code",
   "execution_count": 10,
   "metadata": {},
   "outputs": [
    {
     "data": {
      "text/plain": [
       "'255 Main St'"
      ]
     },
     "execution_count": 10,
     "metadata": {},
     "output_type": "execute_result"
    }
   ],
   "source": [
    "d3.get(\"Dave\")"
   ]
  },
  {
   "cell_type": "code",
   "execution_count": 13,
   "metadata": {},
   "outputs": [
    {
     "ename": "KeyError",
     "evalue": "'Leo'",
     "output_type": "error",
     "traceback": [
      "\u001b[1;31m---------------------------------------------------------------------------\u001b[0m",
      "\u001b[1;31mKeyError\u001b[0m                                  Traceback (most recent call last)",
      "\u001b[1;32m<ipython-input-13-d67febf2df58>\u001b[0m in \u001b[0;36m<module>\u001b[1;34m\u001b[0m\n\u001b[1;32m----> 1\u001b[1;33m \u001b[0md3\u001b[0m\u001b[1;33m[\u001b[0m\u001b[1;34m\"Leo\"\u001b[0m\u001b[1;33m]\u001b[0m\u001b[1;33m\u001b[0m\u001b[1;33m\u001b[0m\u001b[0m\n\u001b[0m",
      "\u001b[1;31mKeyError\u001b[0m: 'Leo'"
     ]
    }
   ],
   "source": [
    "d3[\"Leo\"]"
   ]
  },
  {
   "cell_type": "code",
   "execution_count": 15,
   "metadata": {},
   "outputs": [
    {
     "name": "stdout",
     "output_type": "stream",
     "text": [
      "None\n"
     ]
    }
   ],
   "source": [
    "print(d3.get(\"Leo\"))"
   ]
  },
  {
   "cell_type": "markdown",
   "metadata": {},
   "source": [
    "## In-Class Exercise #1 - Print a formatted statement from the dictionary below <br>\n",
    "<p>The output should be '2018 Chevrolet Silverado'</p>"
   ]
  },
  {
   "cell_type": "code",
   "execution_count": 147,
   "metadata": {},
   "outputs": [
    {
     "name": "stdout",
     "output_type": "stream",
     "text": [
      "Truck:2018 Chevrolet Silverado\n",
      "I have a 2018 Chevrolet Silverado\n"
     ]
    }
   ],
   "source": [
    "# use the dict below\n",
    "#Output: I have a 2018 Chevrolet Silverado\n",
    "truck = {\n",
    "    'year': 2018,\n",
    "    'make': 'Chevrolet',\n",
    "    'model': 'Silverado'\n",
    "}\n",
    "\n",
    "#my try\n",
    "s=str(truck[\"year\"]) + \" \" + truck[\"make\"] + \" \" + truck[\"model\"]\n",
    "print(\"Truck:\" + s)\n",
    "\n",
    "#instructors\n",
    "print(f\"I have a {truck['year']} {truck['make']} {truck['model']}\")"
   ]
  },
  {
   "cell_type": "markdown",
   "metadata": {},
   "source": [
    "##### Adding New Pairs"
   ]
  },
  {
   "cell_type": "code",
   "execution_count": 29,
   "metadata": {},
   "outputs": [
    {
     "data": {
      "text/plain": [
       "{'Dave': '255 Main St',\n",
       " 'Sean': '522 1st Ave',\n",
       " 0: 'This is a value for zero',\n",
       " 'Bob': '222 W Ontario St'}"
      ]
     },
     "execution_count": 29,
     "metadata": {},
     "output_type": "execute_result"
    }
   ],
   "source": [
    "d3['Bob']=\"222 W Ontario St\"\n",
    "d3"
   ]
  },
  {
   "cell_type": "code",
   "execution_count": 35,
   "metadata": {},
   "outputs": [
    {
     "data": {
      "text/plain": [
       "{'Dave': '255 Main St',\n",
       " 'Sean': '522 1st Ave',\n",
       " 0: 'This is a value for zero',\n",
       " 'Bob': '222 W Ontario St',\n",
       " 'Jesus': '45 awesome st'}"
      ]
     },
     "execution_count": 35,
     "metadata": {},
     "output_type": "execute_result"
    }
   ],
   "source": [
    "d3.update({\"Jesus\":\"45 awesome st\"})\n",
    "d3"
   ]
  },
  {
   "cell_type": "code",
   "execution_count": 37,
   "metadata": {},
   "outputs": [
    {
     "data": {
      "text/plain": [
       "{'Dave': '255 Main St',\n",
       " 'Sean': '522 1st Ave',\n",
       " 0: 'This is a value for zero',\n",
       " 'Bob': '222 W Ontario St',\n",
       " 'Jesus': '45 awesome st',\n",
       " 'joker': '123 fake st'}"
      ]
     },
     "execution_count": 37,
     "metadata": {},
     "output_type": "execute_result"
    }
   ],
   "source": [
    "d3.update(joker=\"123 fake st\")\n",
    "d3"
   ]
  },
  {
   "cell_type": "markdown",
   "metadata": {},
   "source": [
    "##### Modifying Values"
   ]
  },
  {
   "cell_type": "code",
   "execution_count": 40,
   "metadata": {},
   "outputs": [
    {
     "data": {
      "text/plain": [
       "{'Dave': '255 Main St',\n",
       " 'Sean': '522 1st Ave',\n",
       " 0: 'This is a value for zero',\n",
       " 'Bob': '222 W Ontario St',\n",
       " 'Jesus': '45 awesome st',\n",
       " 'joker': '123 fake st',\n",
       " 'bob': '12345 noname rd'}"
      ]
     },
     "execution_count": 40,
     "metadata": {},
     "output_type": "execute_result"
    }
   ],
   "source": [
    "#dict[existing key] = new value\n",
    "d3[\"bob\"]= \"12345 noname rd\"\n",
    "d3"
   ]
  },
  {
   "cell_type": "code",
   "execution_count": 41,
   "metadata": {},
   "outputs": [
    {
     "data": {
      "text/plain": [
       "{'Dave': '255 Main St',\n",
       " 'Sean': '522 1st Ave',\n",
       " 0: 'This is a value for zero',\n",
       " 'Bob': '5454 loins ter',\n",
       " 'Jesus': '45 awesome st',\n",
       " 'joker': '123 fake st',\n",
       " 'bob': '12345 noname rd'}"
      ]
     },
     "execution_count": 41,
     "metadata": {},
     "output_type": "execute_result"
    }
   ],
   "source": [
    "d3.update(Bob=\"5454 loins ter\")\n",
    "d3"
   ]
  },
  {
   "cell_type": "markdown",
   "metadata": {},
   "source": [
    "##### Removing Key, Value Pairs"
   ]
  },
  {
   "cell_type": "code",
   "execution_count": 43,
   "metadata": {},
   "outputs": [
    {
     "data": {
      "text/plain": [
       "{'Dave': '255 Main St',\n",
       " 'Sean': '522 1st Ave',\n",
       " 0: 'This is a value for zero',\n",
       " 'Jesus': '45 awesome st',\n",
       " 'joker': '123 fake st'}"
      ]
     },
     "execution_count": 43,
     "metadata": {},
     "output_type": "execute_result"
    }
   ],
   "source": [
    "# del dict[key]\n",
    "del d3[\"Bob\"]\n",
    "d3"
   ]
  },
  {
   "cell_type": "markdown",
   "metadata": {},
   "source": [
    "##### Looping a Dictionary"
   ]
  },
  {
   "cell_type": "code",
   "execution_count": 47,
   "metadata": {},
   "outputs": [
    {
     "name": "stdout",
     "output_type": "stream",
     "text": [
      "Dave 255 Main St\n",
      "Dave 123 255 Main St123\n",
      "Sean 522 1st Ave\n",
      "Sean 123 522 1st Ave123\n",
      "0 This is a value for zero\n",
      "0 123 This is a value for zero123\n",
      "Jesus 45 awesome st\n",
      "Jesus 123 45 awesome st123\n",
      "joker 123 fake st\n",
      "joker 123 123 fake st123\n",
      "('Dave', '255 Main St')\n",
      "('Sean', '522 1st Ave')\n",
      "(0, 'This is a value for zero')\n",
      "('Jesus', '45 awesome st')\n",
      "('joker', '123 fake st')\n"
     ]
    }
   ],
   "source": [
    "# .items()\n",
    "# a, b, c = 1, 2, 3\n",
    "# print(a)\n",
    "# print(b)\n",
    "# print(c)\n",
    "\n",
    "#for key, value\n",
    "#for k, v\n",
    "for k, v in d3.items():\n",
    "    print(k,v)\n",
    "    print(str(k),\"123\",v+\"123\")\n",
    "    \n",
    "#hasn't changed - just printing, not editting\n",
    "d3\n",
    "\n",
    "#k,v is unpacking a tuple\n",
    "for tuple_ in d3.items():\n",
    "    print(tuple_)"
   ]
  },
  {
   "cell_type": "markdown",
   "metadata": {},
   "source": [
    "##### Looping Only Keys"
   ]
  },
  {
   "cell_type": "code",
   "execution_count": 48,
   "metadata": {},
   "outputs": [
    {
     "name": "stdout",
     "output_type": "stream",
     "text": [
      "Dave\n",
      "Sean\n",
      "0\n",
      "Jesus\n",
      "joker\n"
     ]
    }
   ],
   "source": [
    "# .keys()\n",
    "for key in d3.keys():\n",
    "    print(key)"
   ]
  },
  {
   "cell_type": "markdown",
   "metadata": {},
   "source": [
    "##### Looping Only Values"
   ]
  },
  {
   "cell_type": "code",
   "execution_count": 53,
   "metadata": {},
   "outputs": [
    {
     "name": "stdout",
     "output_type": "stream",
     "text": [
      "255 Main St\n",
      "522 1st Ave\n",
      "This is a value for zero\n",
      "45 awesome st\n",
      "123 fake st\n"
     ]
    }
   ],
   "source": [
    "# .values()\n",
    "for value in d3.values():\n",
    "    print(value)"
   ]
  },
  {
   "cell_type": "markdown",
   "metadata": {},
   "source": [
    "## In-Class Exercise #2 - Create a Function that Prints All Key Value Pairs within a print .format() <br>\n",
    "<p><b>Output should be:</b><br>\n",
    "Max has blue eyes<br>\n",
    "Lilly has brown eyes<br>\n",
    "Barney has blue eyes<br>\n",
    "etc.\n",
    "</p>"
   ]
  },
  {
   "cell_type": "code",
   "execution_count": 65,
   "metadata": {},
   "outputs": [
    {
     "name": "stdout",
     "output_type": "stream",
     "text": [
      "Max has blue eyes\n",
      "Lilly has brown eyes\n",
      "Barney has blue eyes\n",
      "Larney has brown eyes\n",
      "Ted has purple eyes\n"
     ]
    }
   ],
   "source": [
    "# use the dict below\n",
    "\n",
    "people = {\n",
    "    'Max': 'blue',\n",
    "    'Lilly': 'brown',\n",
    "    'Barney': 'blue',\n",
    "    'Larney': 'brown',\n",
    "    'Ted': 'purple'\n",
    "}\n",
    "\n",
    "for name, color in people.items():\n",
    "    print(f\"{name} has {color} eyes\")"
   ]
  },
  {
   "cell_type": "markdown",
   "metadata": {},
   "source": [
    "##### sorted()"
   ]
  },
  {
   "cell_type": "code",
   "execution_count": 68,
   "metadata": {},
   "outputs": [
    {
     "name": "stdout",
     "output_type": "stream",
     "text": [
      "[('Barney', 'blue'), ('Larney', 'brown'), ('Lilly', 'brown'), ('Max', 'blue'), ('Ted', 'purple')]\n",
      "['blue', 'blue', 'brown', 'brown', 'purple']\n",
      "['Barney', 'Larney', 'Lilly', 'Max', 'Ted']\n"
     ]
    }
   ],
   "source": [
    "# sorts variables in order\n",
    "# sorted(dict.values()) or dict.keys() or dict.items()\n",
    "\n",
    "print(sorted(people.items()))\n",
    "print(sorted(people.values()))\n",
    "print(sorted(people.keys()))"
   ]
  },
  {
   "cell_type": "markdown",
   "metadata": {},
   "source": [
    "##### List with Dictionaries"
   ]
  },
  {
   "cell_type": "code",
   "execution_count": 73,
   "metadata": {},
   "outputs": [
    {
     "data": {
      "text/plain": [
       "'robert'"
      ]
     },
     "execution_count": 73,
     "metadata": {},
     "output_type": "execute_result"
    }
   ],
   "source": [
    "names = ['dave', 'randy','greg', {'random_guy': 'robert', 'another_guy': 'travis'}]\n",
    "my_dict=names[3]\n",
    "my_dict[\"random_guy\"]\n",
    "#or\n",
    "names[3][\"random_guy\"]"
   ]
  },
  {
   "cell_type": "markdown",
   "metadata": {},
   "source": [
    "##### Dictionaries with Lists"
   ]
  },
  {
   "cell_type": "code",
   "execution_count": 80,
   "metadata": {},
   "outputs": [
    {
     "data": {
      "text/plain": [
       "{'groupA': [1, 2, 3, 4], 'groupB': ['Chris', 'Benny', 'Leo', 'Sydney']}"
      ]
     },
     "execution_count": 80,
     "metadata": {},
     "output_type": "execute_result"
    }
   ],
   "source": [
    "# be careful when using numbers as keys in dictionaries, don't confuse them with indexes\n",
    "d5={\n",
    "    \"groupA\":[1,2,3,4],\n",
    "    \"groupB\":[\"Chris\",\"Benny\",\"Leo\"]\n",
    "}\n",
    "d5[\"groupA\"][2]\n",
    "d5[\"groupB\"].append(\"Sydney\")\n",
    "d5"
   ]
  },
  {
   "cell_type": "markdown",
   "metadata": {},
   "source": [
    "##### Dictionaries with Dictionaries"
   ]
  },
  {
   "cell_type": "code",
   "execution_count": 86,
   "metadata": {},
   "outputs": [
    {
     "data": {
      "text/plain": [
       "2.99"
      ]
     },
     "execution_count": 86,
     "metadata": {},
     "output_type": "execute_result"
    }
   ],
   "source": [
    "# to get values, must traverse through keys\n",
    "d6={\n",
    "    \"random\":1234,\n",
    "    \"ice_cream\":{\n",
    "        \"choc\":2.99,\n",
    "        \"van\":3.99,\n",
    "        \"oreo\":{\"large\":6.99, \"small\":[2.99,4.99]}\n",
    "    }\n",
    "}\n",
    "\n",
    "d6[\"ice_cream\"][\"choc\"]\n",
    "d6[\"ice_cream\"][\"oreo\"][\"large\"]\n",
    "d6[\"ice_cream\"][\"oreo\"][\"small\"][0]"
   ]
  },
  {
   "cell_type": "markdown",
   "metadata": {},
   "source": [
    "## Using Python's Hashing Function"
   ]
  },
  {
   "cell_type": "code",
   "execution_count": 90,
   "metadata": {},
   "outputs": [
    {
     "name": "stdout",
     "output_type": "stream",
     "text": [
      "7213116843306206770\n",
      "5409326426495759227\n",
      "7213116843306206770\n",
      "yes\n",
      "5535282823370914388\n",
      "3514075363388958184\n"
     ]
    }
   ],
   "source": [
    "# hash(var)\n",
    "a = \"Bo\"\n",
    "b = \"Bob\"\n",
    "c = \"Bo\"\n",
    "print(hash(a))\n",
    "print(hash(b))\n",
    "print(hash(c))\n",
    "\n",
    "d7={'Bob':123,\n",
    "   \"Nate\":987}\n",
    "if \"Bob\" in d7:\n",
    "    print(\"yes\")\n",
    "else:\n",
    "    print(\"no\")\n",
    "    \n",
    "for key in d5.keys():\n",
    "    print(hash(key))"
   ]
  },
  {
   "cell_type": "markdown",
   "metadata": {},
   "source": [
    "## Exercise #3 - Write a Function that asks someone's name and address, and then stores that into a dictionary, and continues to do so until they choose to 'quit'. Once they quit, the program should print all names and addresses. <br>\n",
    "<p>\n",
    "<b>Proper steps:</b><br>\n",
    "step 1: write a function that takes in information and stores it in a dictionary<br>\n",
    "step 2: define an empty dictionary to work with<br>\n",
    "step 3: create our loop, which asks the user for information until they quit<br>\n",
    "step 4: ask for the information, and store it into variables<br>\n",
    "step 5: check if the user types quit<br>\n",
    "step 5a: print out all information<br>\n",
    "step 5b: break out of the loop<br>\n",
    "step 6: if they didn't quit, add the information to the dictionary<br>\n",
    "step 7: invoke the function by calling it\n",
    "</p>"
   ]
  },
  {
   "cell_type": "code",
   "execution_count": 114,
   "metadata": {},
   "outputs": [
    {
     "name": "stdout",
     "output_type": "stream",
     "text": [
      "What is your name? Leo\n",
      "What is your address? 123\n",
      "What is your name? Leo\n",
      "What is your address? 123\n",
      "What is your name? Leo1\n",
      "What is your address? 1234\n",
      "What is your name? Leo2\n",
      "What is your address? 12345\n",
      "What is your name? quit\n"
     ]
    },
    {
     "data": {
      "text/plain": [
       "{'Leo': '123', 'Leo1': '1234', 'Leo2': '12345'}"
      ]
     },
     "execution_count": 114,
     "metadata": {},
     "output_type": "execute_result"
    }
   ],
   "source": [
    "from IPython.display import clear_output #This module will clear all pre-exising output form your program\n",
    "\n",
    "def address_book():\n",
    "    address_book={}\n",
    "    while True:\n",
    "        name = input(\"What is your name? \")\n",
    "        if name.lower() == \"quit\":\n",
    "            break\n",
    "        address = input(\"What is your address? \")\n",
    "        if address.lower() == 'quit':\n",
    "            break\n",
    "        address_book[name]=address\n",
    "    return address_book\n",
    "address_book()"
   ]
  },
  {
   "cell_type": "markdown",
   "metadata": {},
   "source": [
    "## Set <br>\n",
    "<p>A Set is an unordered collection data type that is iterable (loop), mutable, and has no duplicate elements.<br>Major advantage is that it is highly optimized in checking if something is in the set, as opposed to checking if something is in a list.</p>"
   ]
  },
  {
   "cell_type": "markdown",
   "metadata": {},
   "source": [
    "##### Declaring"
   ]
  },
  {
   "cell_type": "code",
   "execution_count": 116,
   "metadata": {},
   "outputs": [],
   "source": [
    "# set() or {}\n",
    "# no order {3, 2, 1} outputs as {1, 2, 3}\n",
    "\n",
    "my_set1 = set()\n",
    "my_set2 = {}\n",
    "my_set3 = {\"Kevin\",\"Vicky\",\"Josh\"}"
   ]
  },
  {
   "cell_type": "markdown",
   "metadata": {},
   "source": [
    "##### .add()"
   ]
  },
  {
   "cell_type": "code",
   "execution_count": 117,
   "metadata": {},
   "outputs": [
    {
     "data": {
      "text/plain": [
       "{'Josh', 'Kevin', 'Leo', 'Vicky'}"
      ]
     },
     "execution_count": 117,
     "metadata": {},
     "output_type": "execute_result"
    }
   ],
   "source": [
    "# set.add()\n",
    "my_set3.add(\"Leo\")\n",
    "my_set3"
   ]
  },
  {
   "cell_type": "markdown",
   "metadata": {},
   "source": [
    "##### .remove()"
   ]
  },
  {
   "cell_type": "code",
   "execution_count": 17,
   "metadata": {},
   "outputs": [],
   "source": [
    "# removes by value\n",
    "# set.remove()\n",
    "# nums.remove(56)\n",
    "my_set3.remove(\"Josh\")\n",
    "my_set3\n"
   ]
  },
  {
   "cell_type": "markdown",
   "metadata": {},
   "source": [
    "##### .union() "
   ]
  },
  {
   "cell_type": "code",
   "execution_count": 120,
   "metadata": {},
   "outputs": [
    {
     "data": {
      "text/plain": [
       "{1, 2, 3, 4, 5, 6}"
      ]
     },
     "execution_count": 120,
     "metadata": {},
     "output_type": "execute_result"
    }
   ],
   "source": [
    "# Returns a union of two sets, can also use '|' or set.union(set)\n",
    "# joins all numbers, gets rid of duplicates\n",
    "set1 = {1,2,3,4}\n",
    "set2 = {3,4,5,6}\n",
    "set3 = set1 | set2\n",
    "set3\n",
    "\n",
    "set3 = set1.union(set2)\n",
    "set3"
   ]
  },
  {
   "cell_type": "markdown",
   "metadata": {},
   "source": [
    "##### .intersection()"
   ]
  },
  {
   "cell_type": "code",
   "execution_count": 19,
   "metadata": {},
   "outputs": [],
   "source": [
    "# Returns an intersection of two sets, can also use '&'\n",
    "# only takes similar elements from both sets\n",
    "set1 = {1,2,3,4,5,6}\n",
    "set2 = {1,2,3,4}\n",
    "#only pulls out the similar things\n",
    "set1.intersection(set2)"
   ]
  },
  {
   "cell_type": "markdown",
   "metadata": {},
   "source": [
    "##### .difference()"
   ]
  },
  {
   "cell_type": "code",
   "execution_count": 121,
   "metadata": {},
   "outputs": [
    {
     "data": {
      "text/plain": [
       "{5, 6}"
      ]
     },
     "execution_count": 121,
     "metadata": {},
     "output_type": "execute_result"
    }
   ],
   "source": [
    "# Returns a set containing all the elements of invoking set that are not in the second set, can also use '-'\n",
    "# only takes values from the first set that are not in the second set\n",
    "# order matters\n",
    "\n",
    "set1 = {1,2,3,4,5,6}\n",
    "set2 = {1,2,3,4}\n",
    "set2.difference(set1) #nothing\n",
    "set1.difference(set2)\n"
   ]
  },
  {
   "cell_type": "markdown",
   "metadata": {},
   "source": [
    "##### .clear()"
   ]
  },
  {
   "cell_type": "code",
   "execution_count": 123,
   "metadata": {},
   "outputs": [
    {
     "data": {
      "text/plain": [
       "set()"
      ]
     },
     "execution_count": 123,
     "metadata": {},
     "output_type": "execute_result"
    }
   ],
   "source": [
    "# Empties the whole set\n",
    "# set.clear()\n",
    "set1.clear()\n",
    "set1 "
   ]
  },
  {
   "cell_type": "markdown",
   "metadata": {},
   "source": [
    "##### Frozenset <br>\n",
    "<p>Frozen sets are immutable objects that only support methods and operators that produce a result without affecting the frozen set or sets to which they are applied.</p><br><b>Unique & Immutable</b>"
   ]
  },
  {
   "cell_type": "code",
   "execution_count": 125,
   "metadata": {},
   "outputs": [
    {
     "data": {
      "text/plain": [
       "{1, 2, 3, 4}"
      ]
     },
     "execution_count": 125,
     "metadata": {},
     "output_type": "execute_result"
    }
   ],
   "source": [
    "set2"
   ]
  },
  {
   "cell_type": "code",
   "execution_count": 126,
   "metadata": {},
   "outputs": [
    {
     "ename": "AttributeError",
     "evalue": "'set' object has no attribute 'get'",
     "output_type": "error",
     "traceback": [
      "\u001b[1;31m---------------------------------------------------------------------------\u001b[0m",
      "\u001b[1;31mAttributeError\u001b[0m                            Traceback (most recent call last)",
      "\u001b[1;32m<ipython-input-126-a38c9889532a>\u001b[0m in \u001b[0;36m<module>\u001b[1;34m\u001b[0m\n\u001b[1;32m----> 1\u001b[1;33m \u001b[0mset2\u001b[0m\u001b[1;33m.\u001b[0m\u001b[0mget\u001b[0m\u001b[1;33m(\u001b[0m\u001b[1;36m2\u001b[0m\u001b[1;33m)\u001b[0m\u001b[1;33m\u001b[0m\u001b[1;33m\u001b[0m\u001b[0m\n\u001b[0m",
      "\u001b[1;31mAttributeError\u001b[0m: 'set' object has no attribute 'get'"
     ]
    }
   ],
   "source": []
  },
  {
   "cell_type": "code",
   "execution_count": 22,
   "metadata": {},
   "outputs": [],
   "source": [
    "# frozenset([])\n",
    "s3 = {1,2,3,4,5,6}\n",
    "frozenset(s3)\n",
    "s3[1]=3"
   ]
  },
  {
   "cell_type": "markdown",
   "metadata": {},
   "source": [
    "## Modules"
   ]
  },
  {
   "cell_type": "markdown",
   "metadata": {},
   "source": [
    "##### Importing Entire Modules"
   ]
  },
  {
   "cell_type": "code",
   "execution_count": 128,
   "metadata": {},
   "outputs": [
    {
     "name": "stdout",
     "output_type": "stream",
     "text": [
      "3.141592653589793\n",
      "3\n"
     ]
    }
   ],
   "source": [
    "# import or from 'xxx' import *\n",
    "# import math\n",
    "\n",
    "import math\n",
    "\n",
    "print(math.pi)\n",
    "print(math.floor(math.pi))"
   ]
  },
  {
   "cell_type": "markdown",
   "metadata": {},
   "source": [
    "##### Importing Methods Only"
   ]
  },
  {
   "cell_type": "code",
   "execution_count": 129,
   "metadata": {},
   "outputs": [
    {
     "name": "stdout",
     "output_type": "stream",
     "text": [
      "3.141592653589793\n",
      "3\n"
     ]
    }
   ],
   "source": [
    "# from 'xxx' import 'xxx'\n",
    "# from math import floor\n",
    "from math import floor, pi\n",
    "#no longer needed - \n",
    "math.floor\n",
    "math.pi\n",
    "#now we can - \n",
    "print(pi)\n",
    "print(floor(pi))"
   ]
  },
  {
   "cell_type": "markdown",
   "metadata": {},
   "source": [
    "##### Using the 'as' Keyword"
   ]
  },
  {
   "cell_type": "code",
   "execution_count": 130,
   "metadata": {},
   "outputs": [
    {
     "name": "stdout",
     "output_type": "stream",
     "text": [
      "3.141592653589793\n",
      "3.141592653589793\n"
     ]
    }
   ],
   "source": [
    "# from 'xxx' import 'xxx' as 'xxx' or import 'xxx' as 'xxx'\n",
    "# from math import floor as f\n",
    "from math import pi as pi_from_math\n",
    "print(pi_from_math)\n",
    "print(pi) # should not work but it's already been imported a few excersizes up"
   ]
  },
  {
   "cell_type": "markdown",
   "metadata": {},
   "source": [
    "##### Creating a Module"
   ]
  },
  {
   "cell_type": "code",
   "execution_count": 137,
   "metadata": {},
   "outputs": [
    {
     "name": "stdout",
     "output_type": "stream",
     "text": [
      "hello Leo\n",
      "goodbye Leo\n",
      "hello Leo\n",
      "goodbye Leo\n"
     ]
    }
   ],
   "source": [
    "#whole file\n",
    "import my_mod\n",
    "my_mod.say_hello(\"Leo\")\n",
    "my_mod.say_goodbye(\"Leo\")\n",
    "#specific\n",
    "from my_mod import say_hello,say_goodbye\n",
    "my_mod.say_hello(\"Leo\")\n",
    "my_mod.say_goodbye(\"Leo\")"
   ]
  },
  {
   "cell_type": "markdown",
   "metadata": {},
   "source": [
    "# Exercises"
   ]
  },
  {
   "cell_type": "markdown",
   "metadata": {},
   "source": [
    "### 1) Build a Shopping Cart <br>\n",
    "<p><b>You can use either lists or dictionaries. The program should have the following capabilities:</b><br><br>\n",
    "1) Takes in input <br>\n",
    "2) Stores user input into a dictionary or list <br>\n",
    "3) The User can add or delete items <br>\n",
    "4) The User can see current shopping list <br>\n",
    "5) The program Loops until user 'quits' <br>\n",
    "6) Upon quiting the program, print out all items in the user's list <br>\n",
    "</p>"
   ]
  },
  {
   "cell_type": "code",
   "execution_count": 4,
   "metadata": {},
   "outputs": [
    {
     "name": "stdout",
     "output_type": "stream",
     "text": [
      "Welcome to the online store!\n"
     ]
    },
    {
     "ename": "KeyboardInterrupt",
     "evalue": "Interrupted by user",
     "output_type": "error",
     "traceback": [
      "\u001b[1;31m---------------------------------------------------------------------------\u001b[0m",
      "\u001b[1;31mKeyboardInterrupt\u001b[0m                         Traceback (most recent call last)",
      "\u001b[1;32m<ipython-input-4-78407f0851b3>\u001b[0m in \u001b[0;36m<module>\u001b[1;34m\u001b[0m\n\u001b[0;32m    107\u001b[0m \u001b[0mprint\u001b[0m\u001b[1;33m(\u001b[0m\u001b[1;34m\"Welcome to the online store!\"\u001b[0m\u001b[1;33m)\u001b[0m\u001b[1;33m\u001b[0m\u001b[1;33m\u001b[0m\u001b[0m\n\u001b[0;32m    108\u001b[0m \u001b[1;33m\u001b[0m\u001b[0m\n\u001b[1;32m--> 109\u001b[1;33m \u001b[0mshopping_cart\u001b[0m\u001b[1;33m(\u001b[0m\u001b[1;33m)\u001b[0m\u001b[1;33m\u001b[0m\u001b[1;33m\u001b[0m\u001b[0m\n\u001b[0m",
      "\u001b[1;32m<ipython-input-4-78407f0851b3>\u001b[0m in \u001b[0;36mshopping_cart\u001b[1;34m()\u001b[0m\n\u001b[0;32m     11\u001b[0m         \u001b[1;31m# Ask the user four bits of input: Do you want to : Show/Add/Delete or Quit?\u001b[0m\u001b[1;33m\u001b[0m\u001b[1;33m\u001b[0m\u001b[1;33m\u001b[0m\u001b[0m\n\u001b[0;32m     12\u001b[0m \u001b[1;33m\u001b[0m\u001b[0m\n\u001b[1;32m---> 13\u001b[1;33m         \u001b[0muser_choice\u001b[0m \u001b[1;33m=\u001b[0m \u001b[0minput\u001b[0m\u001b[1;33m(\u001b[0m\u001b[1;34m\"\\nDo you want to : Show/Add/Delete or Quit? \"\u001b[0m\u001b[1;33m)\u001b[0m\u001b[1;33m\u001b[0m\u001b[1;33m\u001b[0m\u001b[0m\n\u001b[0m\u001b[0;32m     14\u001b[0m \u001b[1;33m\u001b[0m\u001b[0m\n\u001b[0;32m     15\u001b[0m         \u001b[1;31m#User Choice: Show\u001b[0m\u001b[1;33m\u001b[0m\u001b[1;33m\u001b[0m\u001b[1;33m\u001b[0m\u001b[0m\n",
      "\u001b[1;32mC:\\anaconda3\\lib\\site-packages\\ipykernel\\kernelbase.py\u001b[0m in \u001b[0;36mraw_input\u001b[1;34m(self, prompt)\u001b[0m\n\u001b[0;32m    858\u001b[0m                 \u001b[1;34m\"raw_input was called, but this frontend does not support input requests.\"\u001b[0m\u001b[1;33m\u001b[0m\u001b[1;33m\u001b[0m\u001b[0m\n\u001b[0;32m    859\u001b[0m             )\n\u001b[1;32m--> 860\u001b[1;33m         return self._input_request(str(prompt),\n\u001b[0m\u001b[0;32m    861\u001b[0m             \u001b[0mself\u001b[0m\u001b[1;33m.\u001b[0m\u001b[0m_parent_ident\u001b[0m\u001b[1;33m,\u001b[0m\u001b[1;33m\u001b[0m\u001b[1;33m\u001b[0m\u001b[0m\n\u001b[0;32m    862\u001b[0m             \u001b[0mself\u001b[0m\u001b[1;33m.\u001b[0m\u001b[0m_parent_header\u001b[0m\u001b[1;33m,\u001b[0m\u001b[1;33m\u001b[0m\u001b[1;33m\u001b[0m\u001b[0m\n",
      "\u001b[1;32mC:\\anaconda3\\lib\\site-packages\\ipykernel\\kernelbase.py\u001b[0m in \u001b[0;36m_input_request\u001b[1;34m(self, prompt, ident, parent, password)\u001b[0m\n\u001b[0;32m    902\u001b[0m             \u001b[1;32mexcept\u001b[0m \u001b[0mKeyboardInterrupt\u001b[0m\u001b[1;33m:\u001b[0m\u001b[1;33m\u001b[0m\u001b[1;33m\u001b[0m\u001b[0m\n\u001b[0;32m    903\u001b[0m                 \u001b[1;31m# re-raise KeyboardInterrupt, to truncate traceback\u001b[0m\u001b[1;33m\u001b[0m\u001b[1;33m\u001b[0m\u001b[1;33m\u001b[0m\u001b[0m\n\u001b[1;32m--> 904\u001b[1;33m                 \u001b[1;32mraise\u001b[0m \u001b[0mKeyboardInterrupt\u001b[0m\u001b[1;33m(\u001b[0m\u001b[1;34m\"Interrupted by user\"\u001b[0m\u001b[1;33m)\u001b[0m \u001b[1;32mfrom\u001b[0m \u001b[1;32mNone\u001b[0m\u001b[1;33m\u001b[0m\u001b[1;33m\u001b[0m\u001b[0m\n\u001b[0m\u001b[0;32m    905\u001b[0m             \u001b[1;32mexcept\u001b[0m \u001b[0mException\u001b[0m \u001b[1;32mas\u001b[0m \u001b[0me\u001b[0m\u001b[1;33m:\u001b[0m\u001b[1;33m\u001b[0m\u001b[1;33m\u001b[0m\u001b[0m\n\u001b[0;32m    906\u001b[0m                 \u001b[0mself\u001b[0m\u001b[1;33m.\u001b[0m\u001b[0mlog\u001b[0m\u001b[1;33m.\u001b[0m\u001b[0mwarning\u001b[0m\u001b[1;33m(\u001b[0m\u001b[1;34m\"Invalid Message:\"\u001b[0m\u001b[1;33m,\u001b[0m \u001b[0mexc_info\u001b[0m\u001b[1;33m=\u001b[0m\u001b[1;32mTrue\u001b[0m\u001b[1;33m)\u001b[0m\u001b[1;33m\u001b[0m\u001b[1;33m\u001b[0m\u001b[0m\n",
      "\u001b[1;31mKeyboardInterrupt\u001b[0m: Interrupted by user"
     ]
    }
   ],
   "source": [
    "from IPython.display import clear_output\n",
    "\n",
    "def shopping_cart():\n",
    "\n",
    "    #Begin with an empty cart\n",
    "    \n",
    "    cart=[]\n",
    "    \n",
    "    while True:\n",
    "        \n",
    "        # Ask the user four bits of input: Do you want to : Show/Add/Delete or Quit?\n",
    "\n",
    "        user_choice = input(\"\\nDo you want to : Show/Add/Delete or Quit? \")\n",
    "        \n",
    "        #User Choice: Show\n",
    "        \n",
    "        if user_choice.lower() == \"show\":\n",
    "            \n",
    "            # Check if cart is empty. If cart is empty, inform user.\n",
    "            \n",
    "            if len(cart) == 0:\n",
    "                \n",
    "                print(\"\\nYour cart is empty!\") \n",
    "                \n",
    "            # If cart isn't empty, list items in cart line by line.\n",
    "            \n",
    "            else:\n",
    "                \n",
    "                print(\"\\nHere's what you have in your cart so far: \\n\")\n",
    "                \n",
    "                print(*cart, sep = \"\\n\")\n",
    "                \n",
    "        # User Choice: Add - Ask user what they would like to add.\n",
    "        \n",
    "        elif user_choice.lower() == \"add\":\n",
    "            \n",
    "            user_add = input(\"\\nWhat would you like to add? \")\n",
    "            \n",
    "            # Check if item is 'not in' the user's cart\n",
    "            \n",
    "            if (user_add.title() not in cart):\n",
    "                \n",
    "                #If item is not in the user's cart, add it and inform user it was added.\n",
    "                \n",
    "                cart.append(user_add.title())\n",
    "                \n",
    "                print(f\"\\n{user_add.title()} has been added to your cart.\")\n",
    "                \n",
    "            #if item is already in the user's cart, don't add it, and inform user it is alrady in their cart.\n",
    "            \n",
    "            elif (user_add.title() in cart):\n",
    "                \n",
    "                print(f\"\\n{user_add.title()} is already in your cart.\")\n",
    "                \n",
    "        # User Choice: Delete - Ask user what they would like to delete.\n",
    "        \n",
    "        elif user_choice.lower() == \"delete\":\n",
    "            \n",
    "            user_del = input(\"\\nWhat would you like to delete? \")\n",
    "            \n",
    "            # Check if item is in the user's cart.\n",
    "            \n",
    "            if (user_del.title() in cart):\n",
    "                \n",
    "                # If it is, remove it.\n",
    "                \n",
    "                cart.remove(user_del.title())\n",
    "                \n",
    "                print(f\"\\n{user_del.title()} was removed from your cart.\")\n",
    "                \n",
    "            # If it isn't, inform the user it's not in their cart.\n",
    "            \n",
    "            else:\n",
    "                \n",
    "                print(f\"\\n{user_del.title()} isn't in your cart.\")\n",
    "                \n",
    "        # User Choice: Quit - Thank the user for shopping.\n",
    "        \n",
    "        elif user_choice.lower() == \"quit\":\n",
    "            \n",
    "            print(\"\\nThanks for shopping!\")\n",
    "            \n",
    "            # Check if cart is empty. If cart is empty, inform user.\n",
    "            \n",
    "            if len(cart) == 0:\n",
    "                \n",
    "                print(\"\\nBut your cart is empty!\") \n",
    "                \n",
    "            # If cart isn't empty, list items in cart line by line.\n",
    "            \n",
    "            else:\n",
    "                \n",
    "                print(\"\\nHere's your final list of items in your cart! \\n\")\n",
    "                \n",
    "                print(*cart, sep = \"\\n\") \n",
    "            \n",
    "            break\n",
    "            \n",
    "        # User Choice: Invalid - If the choice is invalid, inform user and continue loop.\n",
    "        \n",
    "        else:\n",
    "            \n",
    "            print(\"\\nYou've made an invalid selection, try again.\")\n",
    "\n",
    "# Call Shopping Cart Function.\n",
    "\n",
    "print(\"Welcome to the online store!\")\n",
    "\n",
    "shopping_cart()"
   ]
  },
  {
   "cell_type": "markdown",
   "metadata": {},
   "source": [
    "### 2) Create a Module in VS Code and Import It into jupyter notebook <br>\n",
    "<p><b>Module should have the following capabilities:</b><br><br>\n",
    "1) Has a function to calculate the square footage of a house <br>\n",
    "    <b>Reminder of Formula: Length X Width == Area<br>\n",
    "        <hr>\n",
    "2) Has a function to calculate the circumference of a circle <br><br>\n",
    "<b>Program in Jupyter Notebook should take in user input and use imported functions to calculate a circle's circumference or a houses square footage</b>\n",
    "</p>"
   ]
  },
  {
   "cell_type": "code",
   "execution_count": 6,
   "metadata": {},
   "outputs": [
    {
     "name": "stdout",
     "output_type": "stream",
     "text": [
      "Enter S for square footage, C for circumference\n",
      "Would you like the square footage or circumference of an object?c\n",
      "Enter the radius value in centimeters: 12\n",
      "Your Circumference is: \n",
      "75.40\n"
     ]
    }
   ],
   "source": [
    "from areacalc import sqft\n",
    "from areacalc import circ\n",
    "\n",
    "def getspace():\n",
    "    print(\"Enter S for square footage, C for circumference\")\n",
    "    usrchoice = input(\"Would you like the square footage or circumference of an object?\")\n",
    "    if usrchoice.lower() == \"s\":\n",
    "        l = int(input(\"Enter the length value: \"))\n",
    "        w = int(input(\"Enter the width value: \"))\n",
    "        print(\"The square footage is:\")\n",
    "        sqft(l,w)\n",
    "        \n",
    "    elif usrchoice.lower() == \"c\":\n",
    "        r = int(input(\"Enter the radius value: \"))\n",
    "        print('The Circumference is: ')\n",
    "        circ(r)\n",
    "    else:\n",
    "        print(\"Please select a valid option.\")\n",
    "\n",
    "getspace()"
   ]
  },
  {
   "cell_type": "code",
   "execution_count": null,
   "metadata": {},
   "outputs": [],
   "source": []
  },
  {
   "cell_type": "code",
   "execution_count": null,
   "metadata": {},
   "outputs": [],
   "source": []
  }
 ],
 "metadata": {
  "kernelspec": {
   "display_name": "Python 3",
   "language": "python",
   "name": "python3"
  },
  "language_info": {
   "codemirror_mode": {
    "name": "ipython",
    "version": 3
   },
   "file_extension": ".py",
   "mimetype": "text/x-python",
   "name": "python",
   "nbconvert_exporter": "python",
   "pygments_lexer": "ipython3",
   "version": "3.8.8"
  }
 },
 "nbformat": 4,
 "nbformat_minor": 2
}
